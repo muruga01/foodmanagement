{
 "cells": [
  {
   "cell_type": "code",
   "execution_count": 1,
   "id": "3cedfe6c",
   "metadata": {},
   "outputs": [],
   "source": [
    "import pandas as pd\n",
    "import mysql.connector"
   ]
  },
  {
   "cell_type": "code",
   "execution_count": 2,
   "metadata": {},
   "outputs": [],
   "source": [
    "providers = pd.read_csv(\"providers_data.csv\")\n",
    "receivers = pd.read_csv(\"receivers_data.csv\")\n",
    "food_listings = pd.read_csv(\"food_listings_data.csv\")\n",
    "claims = pd.read_csv(\"claims_data.csv\")"
   ]
  },
  {
   "cell_type": "code",
   "execution_count": 3,
   "id": "1bac5dce",
   "metadata": {},
   "outputs": [],
   "source": [
    "conn = mysql.connector.connect(\n",
    "    host=\"localhost\",\n",
    "    user=\"root\",\n",
    "    password=\"\" \n",
    ")\n",
    "cursor = conn.cursor()"
   ]
  },
  {
   "cell_type": "code",
   "execution_count": 17,
   "id": "5ca3bb92",
   "metadata": {},
   "outputs": [
    {
     "name": "stdout",
     "output_type": "stream",
     "text": [
      "MySQL database 'food_data' created successfully!\n"
     ]
    }
   ],
   "source": [
    "cursor.execute(\"CREATE DATABASE IF NOT EXISTS food_data\")\n",
    "print(\"MySQL database 'food_data' created successfully!\")"
   ]
  },
  {
   "cell_type": "code",
   "execution_count": 4,
   "id": "ccad5f42",
   "metadata": {},
   "outputs": [],
   "source": [
    "cursor.execute(\"use food_data\")"
   ]
  },
  {
   "cell_type": "code",
   "execution_count": 19,
   "id": "2e320486",
   "metadata": {},
   "outputs": [],
   "source": [
    "cursor.execute(\"\"\"\n",
    "    CREATE TABLE IF NOT EXISTS providers (\n",
    "        Provider_ID INT PRIMARY KEY,\n",
    "        Name VARCHAR(255),\n",
    "        Type VARCHAR(100),\n",
    "        Address TEXT,\n",
    "        City VARCHAR(100),\n",
    "        Contact VARCHAR(50)\n",
    "    )\n",
    "\"\"\")\n",
    "conn.commit()"
   ]
  },
  {
   "cell_type": "code",
   "execution_count": 20,
   "id": "be7dd898",
   "metadata": {},
   "outputs": [],
   "source": [
    "# Insert data using iterrows()\n",
    "for index, row in providers.iterrows():\n",
    "    cursor.execute(\"\"\"\n",
    "        INSERT INTO providers (Provider_ID, Name, Type, Address, City, Contact) \n",
    "        VALUES (%s, %s, %s, %s, %s, %s)\n",
    "    \"\"\", tuple(row))"
   ]
  },
  {
   "cell_type": "markdown",
   "id": "64561b3d",
   "metadata": {},
   "source": [
    "📌 Which city has the highest number of food providers?"
   ]
  },
  {
   "cell_type": "code",
   "execution_count": 22,
   "id": "9a30d0ab",
   "metadata": {},
   "outputs": [
    {
     "name": "stdout",
     "output_type": "stream",
     "text": [
      "        City  Provider_Count\n",
      "0  New Carol               3\n"
     ]
    }
   ],
   "source": [
    "query = \"\"\"\n",
    "    SELECT City, COUNT(*) AS Provider_Count\n",
    "    FROM providers\n",
    "    GROUP BY City\n",
    "    ORDER BY Provider_Count DESC\n",
    "    LIMIT 1;\n",
    "\"\"\"\n",
    "\n",
    "cursor.execute(query)\n",
    "result = cursor.fetchall()\n",
    "\n",
    "# Convert result into a DataFrame for better readability\n",
    "df = pd.DataFrame(result, columns=[\"City\", \"Provider_Count\"])\n",
    "print(df)"
   ]
  },
  {
   "cell_type": "code",
   "execution_count": 23,
   "id": "1708ab57",
   "metadata": {},
   "outputs": [],
   "source": [
    "cursor.execute(\"\"\"\n",
    "    CREATE TABLE IF NOT EXISTS receivers (\n",
    "        Receiver_ID INT PRIMARY KEY,\n",
    "        Name VARCHAR(255),\n",
    "        Type VARCHAR(100),\n",
    "        City VARCHAR(100),\n",
    "        Contact VARCHAR(50)\n",
    "    )\n",
    "\"\"\")\n",
    "conn.commit()"
   ]
  },
  {
   "cell_type": "code",
   "execution_count": 30,
   "id": "992b5b27",
   "metadata": {},
   "outputs": [],
   "source": [
    "for index, row in receivers.iterrows():\n",
    "    cursor.execute(\"\"\"\n",
    "        INSERT INTO receivers (Receiver_ID, Name, Type, City, Contact) \n",
    "        VALUES (%s, %s, %s, %s, %s)\n",
    "    \"\"\", tuple(row))\n",
    "conn.commit()"
   ]
  },
  {
   "cell_type": "code",
   "execution_count": 34,
   "id": "a26ae219",
   "metadata": {},
   "outputs": [],
   "source": [
    "cursor.execute(\"\"\"\n",
    "    CREATE TABLE IF NOT EXISTS food_listings (\n",
    "        Food_ID INT PRIMARY KEY,\n",
    "        Food_Name VARCHAR(255),\n",
    "        Quantity INT,\n",
    "        Expiry_Date DATE,\n",
    "        Provider_ID INT,\n",
    "        Provider_Type VARCHAR(100),\n",
    "        Location VARCHAR(50),\n",
    "        Food_Type VARCHAR(100),\n",
    "        Meal_Type VARCHAR(100)\n",
    "    )\n",
    "\"\"\")\n",
    "conn.commit()"
   ]
  },
  {
   "cell_type": "code",
   "execution_count": 52,
   "id": "327fd813",
   "metadata": {},
   "outputs": [],
   "source": [
    "\n",
    "# Insert data into food_listings table\n",
    "for index, row in food_listings.iterrows():\n",
    "    cursor.execute(\"\"\"\n",
    "        INSERT INTO food_listings (Food_ID, Food_Name, Quantity, Expiry_Date, Provider_ID, Provider_Type, Location, Food_Type, Meal_Type)\n",
    "        VALUES (%s, %s, %s, %s, %s, %s, %s, %s, %s)\n",
    "    \"\"\", tuple(row))\n",
    "conn.commit()"
   ]
  },
  {
   "cell_type": "code",
   "execution_count": 53,
   "id": "9d357a21",
   "metadata": {},
   "outputs": [
    {
     "name": "stdout",
     "output_type": "stream",
     "text": [
      "     Food_ID Food_Name  Quantity Expiry_Date  Provider_ID     Provider_Type  \\\n",
      "0          1     Bread        43  2025-03-17          110     Grocery Store   \n",
      "1          2      Soup        22  2025-03-24          791     Grocery Store   \n",
      "2          3    Fruits        46  2025-03-28          478  Catering Service   \n",
      "3          4    Fruits        15  2025-03-16          930        Restaurant   \n",
      "4          5      Soup        14  2025-03-19          279        Restaurant   \n",
      "..       ...       ...       ...         ...          ...               ...   \n",
      "995      996      Fish        15  2025-03-30          467  Catering Service   \n",
      "996      997      Fish        22  2025-03-18           35     Grocery Store   \n",
      "997      998    Fruits         6  2025-03-22          444        Restaurant   \n",
      "998      999     Pasta        15  2025-03-30          702       Supermarket   \n",
      "999     1000     Salad        18  2025-03-19          155       Supermarket   \n",
      "\n",
      "             Location       Food_Type  Meal_Type  \n",
      "0    South Kellyville  Non-Vegetarian  Breakfast  \n",
      "1          West James  Non-Vegetarian     Dinner  \n",
      "2         Lake Regina           Vegan  Breakfast  \n",
      "3           Kellytown           Vegan      Lunch  \n",
      "4          Garciaport           Vegan     Dinner  \n",
      "..                ...             ...        ...  \n",
      "995      Phillipsfort           Vegan  Breakfast  \n",
      "996     Andersonmouth      Vegetarian  Breakfast  \n",
      "997         New Billy  Non-Vegetarian     Dinner  \n",
      "998     Lake Mistyton  Non-Vegetarian      Lunch  \n",
      "999       Charlesview  Non-Vegetarian     Dinner  \n",
      "\n",
      "[1000 rows x 9 columns]\n"
     ]
    }
   ],
   "source": [
    "query = \"\"\"\n",
    "    SELECT *\n",
    "    FROM food_Listings\n",
    "\"\"\"\n",
    "\n",
    "cursor.execute(query)\n",
    "result = cursor.fetchall()\n",
    "\n",
    "# Convert result into a DataFrame for better readability\n",
    "df = pd.DataFrame(result,columns=[\"Food_ID\", \"Food_Name\", \"Quantity\", \"Expiry_Date\", \"Provider_ID\", \"Provider_Type\", \"Location\", \"Food_Type\", \"Meal_Type\"])\n",
    "print(df)"
   ]
  },
  {
   "cell_type": "code",
   "execution_count": 54,
   "id": "ad1468f0",
   "metadata": {},
   "outputs": [],
   "source": [
    "cursor.execute(\"\"\"\n",
    "    CREATE TABLE IF NOT EXISTS claims (\n",
    "        Claim_ID INT PRIMARY KEY,\n",
    "        Food_ID INT,\n",
    "        Receiver_ID INT,\n",
    "        Status VARCHAR(50),\n",
    "        Timestamp DATETIME\n",
    "    )\n",
    "\"\"\")\n",
    "conn.commit()"
   ]
  },
  {
   "cell_type": "code",
   "execution_count": 56,
   "id": "b8b0e233",
   "metadata": {},
   "outputs": [],
   "source": [
    "# Convert 'Timestamp' to MySQL DATETIME format\n",
    "claims['Timestamp'] = pd.to_datetime(claims['Timestamp'], format='%m/%d/%Y %H:%M')\n",
    "claims['Timestamp'] = claims['Timestamp'].dt.strftime('%Y-%m-%d %H:%M:%S')\n",
    "\n",
    "for index, row in claims.iterrows():\n",
    "    cursor.execute(\"\"\"\n",
    "        INSERT INTO claims (Claim_ID, Food_ID, Receiver_ID, Status, Timestamp)\n",
    "        VALUES (%s, %s, %s, %s, %s)\n",
    "    \"\"\", tuple(row))\n",
    "conn.commit()"
   ]
  },
  {
   "cell_type": "code",
   "execution_count": 58,
   "id": "734889c1",
   "metadata": {},
   "outputs": [
    {
     "name": "stdout",
     "output_type": "stream",
     "text": [
      "     Claim_ID  Food_ID  Receiver_ID     Status           Timestamp\n",
      "0           1      164          908    Pending 2025-03-05 05:26:00\n",
      "1           2      353          391  Cancelled 2025-03-11 10:24:00\n",
      "2           3      626          492  Completed 2025-03-21 00:59:00\n",
      "3           4       61          933  Cancelled 2025-03-04 09:08:00\n",
      "4           5      345          229    Pending 2025-03-14 15:17:00\n",
      "..        ...      ...          ...        ...                 ...\n",
      "995       996      855          211  Completed 2025-03-13 19:40:00\n",
      "996       997      980          746  Cancelled 2025-03-17 22:04:00\n",
      "997       998      832          967  Cancelled 2025-03-13 18:00:00\n",
      "998       999      917           90  Completed 2025-03-01 15:31:00\n",
      "999      1000      596          950  Cancelled 2025-03-13 12:51:00\n",
      "\n",
      "[1000 rows x 5 columns]\n"
     ]
    }
   ],
   "source": [
    "query = \"\"\"\n",
    "    SELECT *\n",
    "    FROM claims\n",
    "\"\"\"\n",
    "\n",
    "cursor.execute(query)\n",
    "result = cursor.fetchall()\n",
    "\n",
    "# Convert result into a DataFrame for better readability\n",
    "df = pd.DataFrame(result,columns=[\"Claim_ID\", \"Food_ID\", \"Receiver_ID\", \"Status\", \"Timestamp\"])\n",
    "print(df)"
   ]
  },
  {
   "cell_type": "code",
   "execution_count": 60,
   "id": "09c90417",
   "metadata": {},
   "outputs": [
    {
     "name": "stdout",
     "output_type": "stream",
     "text": [
      "     Food_ID Food_Name  Quantity Expiry_Date  Provider_ID     Provider_Type  \\\n",
      "0          1     Bread        43  2025-03-17          110     Grocery Store   \n",
      "1          2      Soup        22  2025-03-24          791     Grocery Store   \n",
      "2          3    Fruits        46  2025-03-28          478  Catering Service   \n",
      "3          4    Fruits        15  2025-03-16          930        Restaurant   \n",
      "4          5      Soup        14  2025-03-19          279        Restaurant   \n",
      "..       ...       ...       ...         ...          ...               ...   \n",
      "995      996      Fish        15  2025-03-30          467  Catering Service   \n",
      "996      997      Fish        22  2025-03-18           35     Grocery Store   \n",
      "997      998    Fruits         6  2025-03-22          444        Restaurant   \n",
      "998      999     Pasta        15  2025-03-30          702       Supermarket   \n",
      "999     1000     Salad        18  2025-03-19          155       Supermarket   \n",
      "\n",
      "             Location       Food_Type  Meal_Type  \n",
      "0    South Kellyville  Non-Vegetarian  Breakfast  \n",
      "1          West James  Non-Vegetarian     Dinner  \n",
      "2         Lake Regina           Vegan  Breakfast  \n",
      "3           Kellytown           Vegan      Lunch  \n",
      "4          Garciaport           Vegan     Dinner  \n",
      "..                ...             ...        ...  \n",
      "995      Phillipsfort           Vegan  Breakfast  \n",
      "996     Andersonmouth      Vegetarian  Breakfast  \n",
      "997         New Billy  Non-Vegetarian     Dinner  \n",
      "998     Lake Mistyton  Non-Vegetarian      Lunch  \n",
      "999       Charlesview  Non-Vegetarian     Dinner  \n",
      "\n",
      "[1000 rows x 9 columns]\n"
     ]
    }
   ],
   "source": [
    "query = \"\"\"\n",
    "    SELECT *\n",
    "    FROM food_Listings\n",
    "\"\"\"\n",
    "\n",
    "cursor.execute(query)\n",
    "result = cursor.fetchall()\n",
    "\n",
    "# Convert result into a DataFrame for better readability\n",
    "df = pd.DataFrame(result,columns=[\"Food_ID\", \"Food_Name\", \"Quantity\", \"Expiry_Date\", \"Provider_ID\", \"Provider_Type\", \"Location\", \"Food_Type\", \"Meal_Type\"])\n",
    "print(df)"
   ]
  },
  {
   "cell_type": "markdown",
   "id": "0aaa16d4",
   "metadata": {},
   "source": [
    "How many food providers and receivers are there in each city?"
   ]
  },
  {
   "cell_type": "code",
   "execution_count": 59,
   "id": "db6b5e5c",
   "metadata": {},
   "outputs": [
    {
     "name": "stdout",
     "output_type": "stream",
     "text": [
      "                City  Provider_Count  Receiver_Count\n",
      "0         Aaronshire               0               1\n",
      "1           Adambury               1               0\n",
      "2           Adamland               0               1\n",
      "3          Adamsview               1               0\n",
      "4         Adamsville               1               0\n",
      "...              ...             ...             ...\n",
      "1873       Yatesside               1               0\n",
      "1874    Youngchester               1               0\n",
      "1875     Zacharyview               0               1\n",
      "1876    Zimmermanton               1               0\n",
      "1877  Zimmermanville               1               0\n",
      "\n",
      "[1878 rows x 3 columns]\n"
     ]
    }
   ],
   "source": [
    "query = \"\"\"\n",
    "    SELECT \n",
    "        COALESCE(p.City, r.City) AS City,\n",
    "        COUNT(DISTINCT p.Provider_ID) AS Provider_Count,\n",
    "        COUNT(DISTINCT r.Receiver_ID) AS Receiver_Count\n",
    "    FROM \n",
    "        providers p\n",
    "    FULL OUTER JOIN \n",
    "        receivers r\n",
    "    ON \n",
    "        p.City = r.City\n",
    "    GROUP BY \n",
    "        COALESCE(p.City, r.City)\n",
    "    ORDER BY \n",
    "        City\n",
    "\"\"\"\n",
    "try:\n",
    "    cursor.execute(query)\n",
    "except:\n",
    "    # MySQL does not support FULL OUTER JOIN, so use UNION ALL and aggregation\n",
    "    query = \"\"\"\n",
    "        SELECT City, COUNT(Provider_ID) AS Provider_Count, 0 AS Receiver_Count\n",
    "        FROM providers\n",
    "        GROUP BY City\n",
    "        UNION ALL\n",
    "        SELECT City, 0 AS Provider_Count, COUNT(Receiver_ID) AS Receiver_Count\n",
    "        FROM receivers\n",
    "        GROUP BY City\n",
    "    \"\"\"\n",
    "    cursor.execute(query)\n",
    "    result = cursor.fetchall()\n",
    "    df_sql = pd.DataFrame(result, columns=[\"City\", \"Provider_Count\", \"Receiver_Count\"])\n",
    "    city_counts_sql = df_sql.groupby(\"City\", as_index=False).sum()\n",
    "    print(city_counts_sql)\n",
    "else:\n",
    "    result = cursor.fetchall()\n",
    "    city_counts_sql = pd.DataFrame(result, columns=[\"City\", \"Provider_Count\", \"Receiver_Count\"])\n",
    "    print(city_counts_sql)"
   ]
  },
  {
   "cell_type": "markdown",
   "id": "d96f5d18",
   "metadata": {},
   "source": [
    "Which type of food provider (restaurant, grocery store, etc.) contributes the most food?"
   ]
  },
  {
   "cell_type": "code",
   "execution_count": 61,
   "id": "fe4b50cf",
   "metadata": {},
   "outputs": [
    {
     "name": "stdout",
     "output_type": "stream",
     "text": [
      "  Provider_Type Total_Quantity\n",
      "0    Restaurant           6923\n"
     ]
    }
   ],
   "source": [
    "query = \"\"\"\n",
    "    SELECT Provider_Type, SUM(Quantity) AS Total_Quantity\n",
    "    FROM food_listings\n",
    "    GROUP BY Provider_Type\n",
    "    ORDER BY Total_Quantity DESC\n",
    "    LIMIT 1;\n",
    "\"\"\"\n",
    "cursor.execute(query)\n",
    "result = cursor.fetchall()\n",
    "df_sql = pd.DataFrame(result, columns=[\"Provider_Type\", \"Total_Quantity\"])\n",
    "print(df_sql)"
   ]
  },
  {
   "cell_type": "markdown",
   "id": "8cbe7513",
   "metadata": {},
   "source": [
    "What is the contact information of food providers in a specific city?"
   ]
  },
  {
   "cell_type": "code",
   "execution_count": 63,
   "id": "70e9235b",
   "metadata": {},
   "outputs": [
    {
     "name": "stdout",
     "output_type": "stream",
     "text": [
      "               Name                                            Address  \\\n",
      "0  Gonzales-Cochran  74347 Christopher Extensions\\nAndreamouth, OK ...   \n",
      "\n",
      "           Contact  \n",
      "0  +1-600-220-0480  \n"
     ]
    }
   ],
   "source": [
    "city_name = \"New Jessica\"  # Replace with the desired city name\n",
    "\n",
    "query = f\"\"\"\n",
    "    SELECT Name, Address, Contact\n",
    "    FROM providers\n",
    "    WHERE City = %s\n",
    "\"\"\"\n",
    "cursor.execute(query, (city_name,))\n",
    "result = cursor.fetchall()\n",
    "df_contacts = pd.DataFrame(result, columns=[\"Name\", \"Address\", \"Contact\"])\n",
    "print(df_contacts)"
   ]
  },
  {
   "cell_type": "markdown",
   "id": "eb3f996f",
   "metadata": {},
   "source": [
    "Which receivers have claimed the most food?"
   ]
  },
  {
   "cell_type": "code",
   "execution_count": 8,
   "id": "1a1dfc55",
   "metadata": {},
   "outputs": [
    {
     "name": "stdout",
     "output_type": "stream",
     "text": [
      "       Receiver_Name  Total_Claims\n",
      "0     Anthony Garcia             5\n",
      "1  William Frederick             5\n",
      "2       Matthew Webb             5\n",
      "3       Scott Hunter             5\n",
      "4     Chelsea Powell             4\n"
     ]
    }
   ],
   "source": [
    "query = \"\"\"\n",
    "    SELECT r.Name, COUNT(c.Claim_ID) AS Total_Claims\n",
    "    FROM claims c\n",
    "    JOIN receivers r ON c.Receiver_ID = r.Receiver_ID\n",
    "    GROUP BY r.Name\n",
    "    ORDER BY Total_Claims DESC\n",
    "    LIMIT 5;\n",
    "\"\"\"\n",
    "cursor.execute(query)\n",
    "result = cursor.fetchall()\n",
    "df_top_receivers = pd.DataFrame(result, columns=[\"Receiver_Name\", \"Total_Claims\"])\n",
    "print(df_top_receivers)"
   ]
  },
  {
   "cell_type": "markdown",
   "id": "2efcbd62",
   "metadata": {},
   "source": [
    "What is the total quantity of food available from all providers?"
   ]
  },
  {
   "cell_type": "code",
   "execution_count": 9,
   "id": "af747a95",
   "metadata": {},
   "outputs": [
    {
     "name": "stdout",
     "output_type": "stream",
     "text": [
      "  Total_Quantity_Available\n",
      "0                    25794\n"
     ]
    }
   ],
   "source": [
    "query = \"\"\"\n",
    "    SELECT SUM(Quantity) AS Total_Quantity_Available\n",
    "    FROM food_listings\n",
    "\"\"\"\n",
    "cursor.execute(query)\n",
    "result = cursor.fetchall()\n",
    "df_total_quantity = pd.DataFrame(result, columns=[\"Total_Quantity_Available\"])\n",
    "print(df_total_quantity)"
   ]
  },
  {
   "cell_type": "markdown",
   "id": "7e923d30",
   "metadata": {},
   "source": [
    "Which city has the highest number of food listings?"
   ]
  },
  {
   "cell_type": "code",
   "execution_count": 10,
   "id": "74e1d95f",
   "metadata": {},
   "outputs": [
    {
     "name": "stdout",
     "output_type": "stream",
     "text": [
      "        City  Food_Listing_Count\n",
      "0  New Carol                   6\n"
     ]
    }
   ],
   "source": [
    "query = \"\"\"\n",
    "    SELECT Location AS City, COUNT(*) AS Food_Listing_Count\n",
    "    FROM food_listings\n",
    "    GROUP BY Location\n",
    "    ORDER BY Food_Listing_Count DESC\n",
    "    LIMIT 1;\n",
    "\"\"\"\n",
    "cursor.execute(query)\n",
    "result = cursor.fetchall()\n",
    "df_city_listings = pd.DataFrame(result, columns=[\"City\", \"Food_Listing_Count\"])\n",
    "print(df_city_listings)"
   ]
  },
  {
   "cell_type": "markdown",
   "id": "45239d1d",
   "metadata": {},
   "source": [
    "What are the most commonly available food types?"
   ]
  },
  {
   "cell_type": "code",
   "execution_count": 11,
   "id": "445dfb06",
   "metadata": {},
   "outputs": [
    {
     "name": "stdout",
     "output_type": "stream",
     "text": [
      "        Food_Type  Count\n",
      "0      Vegetarian    336\n",
      "1           Vegan    334\n",
      "2  Non-Vegetarian    330\n"
     ]
    }
   ],
   "source": [
    "query = \"\"\"\n",
    "    SELECT Food_Type, COUNT(*) AS Count\n",
    "    FROM food_listings\n",
    "    GROUP BY Food_Type\n",
    "    ORDER BY Count DESC;\n",
    "\"\"\"\n",
    "cursor.execute(query)\n",
    "result = cursor.fetchall()\n",
    "df_food_types = pd.DataFrame(result, columns=[\"Food_Type\", \"Count\"])\n",
    "print(df_food_types)"
   ]
  },
  {
   "cell_type": "markdown",
   "id": "b4d735b8",
   "metadata": {},
   "source": [
    "How many food claims have been made for each food item?"
   ]
  },
  {
   "cell_type": "code",
   "execution_count": 12,
   "id": "c0d56f23",
   "metadata": {},
   "outputs": [
    {
     "name": "stdout",
     "output_type": "stream",
     "text": [
      "    Food_Name  Claim_Count\n",
      "0        Rice          122\n",
      "1        Soup          114\n",
      "2       Dairy          110\n",
      "3        Fish          108\n",
      "4       Salad          106\n",
      "5     Chicken          102\n",
      "6       Bread           94\n",
      "7       Pasta           87\n",
      "8  Vegetables           86\n",
      "9      Fruits           71\n"
     ]
    }
   ],
   "source": [
    "query = \"\"\"\n",
    "    SELECT f.Food_Name, COUNT(c.Claim_ID) AS Claim_Count\n",
    "    FROM claims c\n",
    "    JOIN food_listings f ON c.Food_ID = f.Food_ID\n",
    "    GROUP BY f.Food_Name\n",
    "    ORDER BY Claim_Count DESC;\n",
    "\"\"\"\n",
    "cursor.execute(query)\n",
    "result = cursor.fetchall()\n",
    "df_claims_per_food = pd.DataFrame(result, columns=[\"Food_Name\", \"Claim_Count\"])\n",
    "print(df_claims_per_food)"
   ]
  },
  {
   "cell_type": "markdown",
   "id": "e5efdd20",
   "metadata": {},
   "source": [
    "Which provider has had the highest number of successful food claims?"
   ]
  },
  {
   "cell_type": "code",
   "execution_count": 13,
   "id": "2caadccf",
   "metadata": {},
   "outputs": [
    {
     "name": "stdout",
     "output_type": "stream",
     "text": [
      "  Provider_Name  Successful_Claims\n",
      "0   Barry Group                  5\n"
     ]
    }
   ],
   "source": [
    "query = \"\"\"\n",
    "    SELECT p.Name AS Provider_Name, COUNT(c.Claim_ID) AS Successful_Claims\n",
    "    FROM claims c\n",
    "    JOIN food_listings f ON c.Food_ID = f.Food_ID\n",
    "    JOIN providers p ON f.Provider_ID = p.Provider_ID\n",
    "    WHERE c.Status = 'Completed'\n",
    "    GROUP BY p.Name\n",
    "    ORDER BY Successful_Claims DESC\n",
    "    LIMIT 1;\n",
    "\"\"\"\n",
    "cursor.execute(query)\n",
    "result = cursor.fetchall()\n",
    "df_top_provider = pd.DataFrame(result, columns=[\"Provider_Name\", \"Successful_Claims\"])\n",
    "print(df_top_provider)"
   ]
  },
  {
   "cell_type": "markdown",
   "id": "9612a1d0",
   "metadata": {},
   "source": [
    "What percentage of food claims are completed vs. pending vs. canceled?"
   ]
  },
  {
   "cell_type": "code",
   "execution_count": 14,
   "id": "fc3dc585",
   "metadata": {},
   "outputs": [
    {
     "name": "stdout",
     "output_type": "stream",
     "text": [
      "      Status  Count Percentage\n",
      "0    Pending    325      32.50\n",
      "1  Cancelled    336      33.60\n",
      "2  Completed    339      33.90\n"
     ]
    }
   ],
   "source": [
    "query = \"\"\"\n",
    "    SELECT \n",
    "        Status,\n",
    "        COUNT(*) AS Count,\n",
    "        ROUND(COUNT(*) * 100.0 / (SELECT COUNT(*) FROM claims), 2) AS Percentage\n",
    "    FROM claims\n",
    "    GROUP BY Status\n",
    "\"\"\"\n",
    "cursor.execute(query)\n",
    "result = cursor.fetchall()\n",
    "df_claims_status = pd.DataFrame(result, columns=[\"Status\", \"Count\", \"Percentage\"])\n",
    "print(df_claims_status)"
   ]
  },
  {
   "cell_type": "markdown",
   "id": "d72f80ed",
   "metadata": {},
   "source": [
    "What is the average quantity of food claimed per receiver?"
   ]
  },
  {
   "cell_type": "code",
   "execution_count": 15,
   "id": "bf3530a4",
   "metadata": {},
   "outputs": [
    {
     "name": "stdout",
     "output_type": "stream",
     "text": [
      "          Receiver_Name Avg_Quantity_Claimed\n",
      "0           Nancy Jones              50.0000\n",
      "1            Lisa Pitts              50.0000\n",
      "2    Christopher Wright              50.0000\n",
      "3           Nancy Silva              50.0000\n",
      "4          Peggy Knight              50.0000\n",
      "..                  ...                  ...\n",
      "615       John Reynolds               2.0000\n",
      "616     Matthew Johnson               2.0000\n",
      "617      Kenneth Barnes               2.0000\n",
      "618        Amanda Kline               1.0000\n",
      "619       Joshua Hooper               1.0000\n",
      "\n",
      "[620 rows x 2 columns]\n"
     ]
    }
   ],
   "source": [
    "query = \"\"\"\n",
    "    SELECT \n",
    "        r.Name AS Receiver_Name,\n",
    "        AVG(f.Quantity) AS Avg_Quantity_Claimed\n",
    "    FROM claims c\n",
    "    JOIN receivers r ON c.Receiver_ID = r.Receiver_ID\n",
    "    JOIN food_listings f ON c.Food_ID = f.Food_ID\n",
    "    GROUP BY r.Name\n",
    "    ORDER BY Avg_Quantity_Claimed DESC\n",
    "\"\"\"\n",
    "cursor.execute(query)\n",
    "result = cursor.fetchall()\n",
    "df_avg_quantity = pd.DataFrame(result, columns=[\"Receiver_Name\", \"Avg_Quantity_Claimed\"])\n",
    "print(df_avg_quantity)"
   ]
  },
  {
   "cell_type": "markdown",
   "id": "6c902371",
   "metadata": {},
   "source": [
    "Which meal type (breakfast, lunch, dinner, snacks) is claimed the most?"
   ]
  },
  {
   "cell_type": "code",
   "execution_count": 16,
   "id": "759ee15b",
   "metadata": {},
   "outputs": [
    {
     "name": "stdout",
     "output_type": "stream",
     "text": [
      "   Meal_Type  Claim_Count\n",
      "0  Breakfast          278\n"
     ]
    }
   ],
   "source": [
    "query = \"\"\"\n",
    "    SELECT f.Meal_Type, COUNT(c.Claim_ID) AS Claim_Count\n",
    "    FROM claims c\n",
    "    JOIN food_listings f ON c.Food_ID = f.Food_ID\n",
    "    GROUP BY f.Meal_Type\n",
    "    ORDER BY Claim_Count DESC\n",
    "    LIMIT 1;\n",
    "\"\"\"\n",
    "cursor.execute(query)\n",
    "result = cursor.fetchall()\n",
    "df_meal_type = pd.DataFrame(result, columns=[\"Meal_Type\", \"Claim_Count\"])\n",
    "print(df_meal_type)"
   ]
  },
  {
   "cell_type": "markdown",
   "id": "328a63a4",
   "metadata": {},
   "source": [
    "What is the total quantity of food donated by each provider?"
   ]
  },
  {
   "cell_type": "code",
   "execution_count": 17,
   "id": "8c71f443",
   "metadata": {},
   "outputs": [
    {
     "name": "stdout",
     "output_type": "stream",
     "text": [
      "                       Provider_Name Total_Quantity_Donated\n",
      "0                         Miller Inc                    217\n",
      "1                        Barry Group                    179\n",
      "2         Evans, Wright and Mitchell                    158\n",
      "3                        Smith Group                    150\n",
      "4                       Campbell LLC                    145\n",
      "..                               ...                    ...\n",
      "623                   Reyes and Sons                      1\n",
      "624                   Gonzales-Moore                      1\n",
      "625                  Norris-Townsend                      1\n",
      "626                        Mcgee PLC                      1\n",
      "627  Martinez, Armstrong and Carroll                      1\n",
      "\n",
      "[628 rows x 2 columns]\n"
     ]
    }
   ],
   "source": [
    "query = \"\"\"\n",
    "    SELECT p.Name AS Provider_Name, SUM(f.Quantity) AS Total_Quantity_Donated\n",
    "    FROM food_listings f\n",
    "    JOIN providers p ON f.Provider_ID = p.Provider_ID\n",
    "    GROUP BY p.Name\n",
    "    ORDER BY Total_Quantity_Donated DESC\n",
    "\"\"\"\n",
    "cursor.execute(query)\n",
    "result = cursor.fetchall()\n",
    "df_quantity_by_provider = pd.DataFrame(result, columns=[\"Provider_Name\", \"Total_Quantity_Donated\"])\n",
    "print(df_quantity_by_provider)"
   ]
  }
 ],
 "metadata": {
  "kernelspec": {
   "display_name": "Python 3",
   "language": "python",
   "name": "python3"
  },
  "language_info": {
   "codemirror_mode": {
    "name": "ipython",
    "version": 3
   },
   "file_extension": ".py",
   "mimetype": "text/x-python",
   "name": "python",
   "nbconvert_exporter": "python",
   "pygments_lexer": "ipython3",
   "version": "3.13.2"
  }
 },
 "nbformat": 4,
 "nbformat_minor": 5
}
